{
  "cells": [
    {
      "cell_type": "markdown",
      "id": "24e338b5-f9da-4ac4-865d-73ec4b7b71ae",
      "metadata": {
        "id": "24e338b5-f9da-4ac4-865d-73ec4b7b71ae"
      },
      "source": [
        "## Multi-armed Bandit Problem: Epsilon-Greedy"
      ]
    },
    {
      "cell_type": "markdown",
      "id": "01f41d93-ad63-49a6-b4e1-fdcc3d8095f2",
      "metadata": {
        "id": "01f41d93-ad63-49a6-b4e1-fdcc3d8095f2"
      },
      "source": [
        "### Create class with functions to select and update arms"
      ]
    },
    {
      "cell_type": "code",
      "execution_count": null,
      "id": "9ba220f3-8ba2-4caa-9f66-69e23ac693bd",
      "metadata": {
        "id": "9ba220f3-8ba2-4caa-9f66-69e23ac693bd"
      },
      "outputs": [],
      "source": [
        "import numpy as np\n",
        "class EpsilonGreedy:\n",
        "    def __init__(self, n_arms, epsilon):\n",
        "        self.n_arms = n_arms\n",
        "        self.epsilon = epsilon\n",
        "        self.counts = np.zeros(n_arms)\n",
        "        self.values = np.zeros(n_arms)\n",
        "    def select_arm(self):\n",
        "        if np.random.rand() < self.epsilon:\n",
        "            return np.random.randint(0, self.n_arms)\n",
        "        else:\n",
        "            return np.argmax(self.values)\n",
        "\n",
        "    def update(self, chosen_arm, reward):\n",
        "        self.counts[chosen_arm] += 1\n",
        "        n = self.counts[chosen_arm]\n",
        "        value = self.values[chosen_arm]\n",
        "        self.values[chosen_arm] = ((n - 1) / n) * value + (1 / n) * reward"
      ]
    },
    {
      "cell_type": "markdown",
      "id": "c501b8c3-2b70-4744-b4eb-c4adef758c7b",
      "metadata": {
        "id": "c501b8c3-2b70-4744-b4eb-c4adef758c7b"
      },
      "source": [
        "### calculate reward"
      ]
    },
    {
      "cell_type": "code",
      "execution_count": null,
      "id": "c18b1a03-95a1-40d6-9c74-d47dccfbe700",
      "metadata": {
        "id": "c18b1a03-95a1-40d6-9c74-d47dccfbe700",
        "outputId": "c52352cb-7b59-49c1-b64a-d581a1ec3b89"
      },
      "outputs": [
        {
          "name": "stdout",
          "output_type": "stream",
          "text": [
            "Total Reward: 81.66027232228254\n"
          ]
        }
      ],
      "source": [
        "n_arms = 4\n",
        "epsilon = 0.1\n",
        "n_trials = 1000\n",
        "rewards = np.random.randn(n_arms, n_trials)\n",
        "\n",
        "agent = EpsilonGreedy(n_arms, epsilon)\n",
        "total_reward = 0\n",
        "\n",
        "for t in range(n_trials):\n",
        "    arm = agent.select_arm()\n",
        "    reward = rewards[arm, t]\n",
        "    agent.update(arm, reward)\n",
        "    total_reward += reward\n",
        "\n",
        "print(\"Total Reward:\", total_reward)"
      ]
    }
  ],
  "metadata": {
    "kernelspec": {
      "display_name": "Python 3 (ipykernel)",
      "language": "python",
      "name": "python3"
    },
    "language_info": {
      "codemirror_mode": {
        "name": "ipython",
        "version": 3
      },
      "file_extension": ".py",
      "mimetype": "text/x-python",
      "name": "python",
      "nbconvert_exporter": "python",
      "pygments_lexer": "ipython3",
      "version": "3.11.7"
    },
    "colab": {
      "provenance": []
    }
  },
  "nbformat": 4,
  "nbformat_minor": 5
}